{
 "cells": [
  {
   "cell_type": "code",
   "execution_count": 25,
   "metadata": {},
   "outputs": [
    {
     "ename": "TypeError",
     "evalue": "ImageAnalysisWorkflow.run() got an unexpected keyword argument 'image_path'",
     "output_type": "error",
     "traceback": [
      "\u001b[0;31m---------------------------------------------------------------------------\u001b[0m",
      "\u001b[0;31mTypeError\u001b[0m                                 Traceback (most recent call last)",
      "Cell \u001b[0;32mIn[25], line 11\u001b[0m\n\u001b[1;32m      9\u001b[0m workflow\u001b[39m.\u001b[39madd_operator(SmoothingOperator(kernel_size\u001b[39m=\u001b[39m\u001b[39m5\u001b[39m))\n\u001b[1;32m     10\u001b[0m workflow\u001b[39m.\u001b[39madd_operator(SegmentationOperator(threshold\u001b[39m=\u001b[39m\u001b[39m128\u001b[39m))\n\u001b[0;32m---> 11\u001b[0m result_image \u001b[39m=\u001b[39m workflow\u001b[39m.\u001b[39;49mrun(image_path\u001b[39m=\u001b[39;49m\u001b[39m\"\u001b[39;49m\u001b[39mtests/images/Ch0050.png\u001b[39;49m\u001b[39m\"\u001b[39;49m, save_path\u001b[39m=\u001b[39;49m\u001b[39m\"\u001b[39;49m\u001b[39mtests/images/Ch0050_results.png\u001b[39;49m\u001b[39m\"\u001b[39;49m)\n",
      "\u001b[0;31mTypeError\u001b[0m: ImageAnalysisWorkflow.run() got an unexpected keyword argument 'image_path'"
     ]
    }
   ],
   "source": [
    "import sys\n",
    "import os\n",
    "sys.path.append(\"/Users/antoine/Harvard/IAC/auto-bia-workflow/auto_bia\")\n",
    "\n",
    "from auto_bia.bia_workflow import ImageAnalysisWorkflow\n",
    "\n",
    "# Create an image analysis workflow\n",
    "workflow = ImageAnalysisWorkflow()\n",
    "workflow.add_operator(SmoothingOperator(kernel_size=5))\n",
    "workflow.add_operator(SegmentationOperator(threshold=128))\n",
    "result_image = workflow.run(image_path=\"tests/images/Ch0050.png\", save_path=\"tests/images/Ch0050_results.png\")"
   ]
  },
  {
   "cell_type": "code",
   "execution_count": 11,
   "metadata": {},
   "outputs": [
    {
     "ename": "NameError",
     "evalue": "name '__file__' is not defined",
     "output_type": "error",
     "traceback": [
      "\u001b[0;31m---------------------------------------------------------------------------\u001b[0m",
      "\u001b[0;31mNameError\u001b[0m                                 Traceback (most recent call last)",
      "Cell \u001b[0;32mIn[11], line 3\u001b[0m\n\u001b[1;32m      1\u001b[0m \u001b[39mimport\u001b[39;00m \u001b[39mos\u001b[39;00m \n\u001b[1;32m      2\u001b[0m \u001b[39mimport\u001b[39;00m \u001b[39msys\u001b[39;00m\n\u001b[0;32m----> 3\u001b[0m \u001b[39mprint\u001b[39m(os\u001b[39m.\u001b[39mpath\u001b[39m.\u001b[39mabspath(os\u001b[39m.\u001b[39mpath\u001b[39m.\u001b[39mjoin(os\u001b[39m.\u001b[39mpath\u001b[39m.\u001b[39mdirname(\u001b[39m__file__\u001b[39;49m), \u001b[39m'\u001b[39m\u001b[39m..\u001b[39m\u001b[39m'\u001b[39m)))\n",
      "\u001b[0;31mNameError\u001b[0m: name '__file__' is not defined"
     ]
    }
   ],
   "source": [
    "import os \n",
    "import sys\n",
    "print(os.path.abspath(os.path.join(os.path.dirname(__file__), '..')))"
   ]
  },
  {
   "cell_type": "code",
   "execution_count": 19,
   "metadata": {},
   "outputs": [
    {
     "name": "stderr",
     "output_type": "stream",
     "text": [
      "[ WARN:0@797.358] global loadsave.cpp:248 findDecoder imread_('path/to/your/image.png'): can't open/read file: check file path/integrity\n"
     ]
    },
    {
     "ename": "TypeError",
     "evalue": "ImageAnalysisWorkflow.run() got an unexpected keyword argument 'save_path'",
     "output_type": "error",
     "traceback": [
      "\u001b[0;31m---------------------------------------------------------------------------\u001b[0m",
      "\u001b[0;31mTypeError\u001b[0m                                 Traceback (most recent call last)",
      "Cell \u001b[0;32mIn[19], line 17\u001b[0m\n\u001b[1;32m     14\u001b[0m image \u001b[39m=\u001b[39m cv2\u001b[39m.\u001b[39mimread(image_path, cv2\u001b[39m.\u001b[39mIMREAD_GRAYSCALE)\n\u001b[1;32m     16\u001b[0m \u001b[39m# Run the workflow\u001b[39;00m\n\u001b[0;32m---> 17\u001b[0m result_image \u001b[39m=\u001b[39m workflow\u001b[39m.\u001b[39;49mrun(image, save_path\u001b[39m=\u001b[39;49m\u001b[39m\"\u001b[39;49m\u001b[39mimages/result.png\u001b[39;49m\u001b[39m\"\u001b[39;49m)\n\u001b[1;32m     19\u001b[0m \u001b[39m# Display the result\u001b[39;00m\n\u001b[1;32m     20\u001b[0m cv2\u001b[39m.\u001b[39mimshow(\u001b[39m\"\u001b[39m\u001b[39mResult\u001b[39m\u001b[39m\"\u001b[39m, result_image)\n",
      "\u001b[0;31mTypeError\u001b[0m: ImageAnalysisWorkflow.run() got an unexpected keyword argument 'save_path'"
     ]
    }
   ],
   "source": [
    "import cv2\n",
    "from auto_bia.bia_operator import ImageLoadingOperator, SmoothingOperator, SegmentationOperator\n",
    "from auto_bia.bia_workflow import ImageAnalysisWorkflow\n",
    "\n",
    "# Initialize the workflow\n",
    "workflow = ImageAnalysisWorkflow()\n",
    "\n",
    "# Add operators\n",
    "workflow.add_operator(SmoothingOperator(kernel_size=5))\n",
    "workflow.add_operator(SegmentationOperator(threshold=128))\n",
    "\n",
    "# Load an image\n",
    "image_path = \"path/to/your/image.png\"\n",
    "image = cv2.imread(image_path, cv2.IMREAD_GRAYSCALE)\n",
    "\n",
    "# Run the workflow\n",
    "result_image = workflow.run(image, save_path=\"images/result.png\")\n",
    "\n",
    "# Display the result\n",
    "cv2.imshow(\"Result\", result_image)\n",
    "cv2.waitKey(0)\n",
    "cv2.destroyAllWindows()\n"
   ]
  },
  {
   "cell_type": "code",
   "execution_count": null,
   "metadata": {},
   "outputs": [],
   "source": []
  }
 ],
 "metadata": {
  "kernelspec": {
   "display_name": "bia-workflow",
   "language": "python",
   "name": "python3"
  },
  "language_info": {
   "codemirror_mode": {
    "name": "ipython",
    "version": 3
   },
   "file_extension": ".py",
   "mimetype": "text/x-python",
   "name": "python",
   "nbconvert_exporter": "python",
   "pygments_lexer": "ipython3",
   "version": "3.10.14"
  },
  "orig_nbformat": 4
 },
 "nbformat": 4,
 "nbformat_minor": 2
}
